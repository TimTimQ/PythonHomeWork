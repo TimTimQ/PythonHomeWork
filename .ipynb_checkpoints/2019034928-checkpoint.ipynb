{
 "cells": [
  {
   "cell_type": "markdown",
   "metadata": {},
   "source": [
    "# 2019034928  苏高玉  2019级软件工程专升本2班"
   ]
  },
  {
   "cell_type": "markdown",
   "metadata": {},
   "source": [
    "任务3-3代码"
   ]
  },
  {
   "cell_type": "code",
   "execution_count": 4,
   "metadata": {},
   "outputs": [
    {
     "name": "stdout",
     "output_type": "stream",
     "text": [
      "请输入一元二次方程的3个系数\n",
      "请输入a：2\n",
      "请输入b：4\n",
      "请输入c：6\n",
      "该方程无实根\n"
     ]
    }
   ],
   "source": [
    "import math\n",
    "print(\"请输入一元二次方程的3个系数\")\n",
    "a=float(input(\"请输入a：\"))\n",
    "b=float(input(\"请输入b：\"))\n",
    "c=float(input(\"请输入c：\"))\n",
    "if(a==0):\n",
    "    print(\"二次系数不能为零，非一元二次方程！\")\n",
    "    exit(0)\n",
    "tmp=b*b-4*a*c\n",
    "if(tmp>=0):\n",
    "    x1=(-b+math.sqrt(b*b-4*a*c))/(2*a)\n",
    "    x2=(-b-math.sqrt(b*b-4*a*c))/(2*a)\n",
    "    print(\"x1={0:.3f},x2={1:.3f}\".format(x1,x2))\n",
    "else:\n",
    "    print(\"该方程无实根\")"
   ]
  },
  {
   "cell_type": "markdown",
   "metadata": {},
   "source": [
    "任务3-4代码"
   ]
  },
  {
   "cell_type": "code",
   "execution_count": 5,
   "metadata": {},
   "outputs": [
    {
     "name": "stdout",
     "output_type": "stream",
     "text": [
      "成绩等级换算\n",
      "请输入学生的成绩88\n",
      "88.0的成绩等级是良好\n"
     ]
    }
   ],
   "source": [
    "print(\"成绩等级换算\")\n",
    "grade=float(input(\"请输入学生的成绩\"))\n",
    "if(grade<0 or grade>=100):\n",
    "    print(\"成绩无效\")\n",
    "    exit(0)\n",
    "if(grade>=90):\n",
    "    print(\"{0}的成绩等级是{1}\".format(grade,\"优秀\"))\n",
    "elif(grade>=80):\n",
    "    print(\"{0}的成绩等级是{1}\".format(grade,\"良好\"))\n",
    "elif(grade>=70):\n",
    "    print(\"{0}的成绩等级是{1}\".format(grade,\"中等\"))\n",
    "elif(grade>=60):\n",
    "    print(\"{0}的成绩等级是{1}\".format(grade,\"及格\"))\n",
    "else:\n",
    "    print(\"{0}的成绩等级是{1}\".format(grade,\"不及格\"))"
   ]
  },
  {
   "cell_type": "markdown",
   "metadata": {},
   "source": [
    "任务3-8代码"
   ]
  },
  {
   "cell_type": "code",
   "execution_count": 6,
   "metadata": {},
   "outputs": [
    {
     "name": "stdout",
     "output_type": "stream",
     "text": [
      "圆周率是：3.141580120632019\n"
     ]
    }
   ],
   "source": [
    "n=1\n",
    "s=1.0\n",
    "tmp=0\n",
    "while(abs(s-tmp)>0.0000000001):\n",
    "    tmp=s\n",
    "    s=s*((2*n)*(2*n))/((2*n-1)*(2*n+1))\n",
    "    n=n+1\n",
    "s=s*2\n",
    "print(\"圆周率是：{0}\".format(s))"
   ]
  },
  {
   "cell_type": "markdown",
   "metadata": {},
   "source": [
    "任务3-10代码"
   ]
  },
  {
   "cell_type": "code",
   "execution_count": 7,
   "metadata": {},
   "outputs": [
    {
     "name": "stdout",
     "output_type": "stream",
     "text": [
      "本程序计算n的阶乘！\n",
      "请输入一个正整数：20\n",
      "20!=2432902008176640000\n"
     ]
    }
   ],
   "source": [
    "print(\"本程序计算n的阶乘！\")\n",
    "num=int(input(\"请输入一个正整数：\"))\n",
    "s=1\n",
    "for n in range(1,num+1):\n",
    "    s=s*n\n",
    "print(\"{0}!={1}\".format(num,s))"
   ]
  },
  {
   "cell_type": "markdown",
   "metadata": {},
   "source": [
    "任务3-11代码"
   ]
  },
  {
   "cell_type": "code",
   "execution_count": 8,
   "metadata": {},
   "outputs": [
    {
     "name": "stdout",
     "output_type": "stream",
     "text": [
      "本程序计算分数之和\n",
      "请输入一个正整数：10\n",
      "分数之和是：0.760460\n"
     ]
    }
   ],
   "source": [
    "print(\"本程序计算分数之和\")\n",
    "num=int(input(\"请输入一个正整数：\"))\n",
    "s=0\n",
    "flag=1\n",
    "for i in range(1,num*2,2):\n",
    "    s=s+flag*(1/i)\n",
    "    flag=-flag\n",
    "print(\"分数之和是：{0:.6f}\".format(s))"
   ]
  },
  {
   "cell_type": "markdown",
   "metadata": {},
   "source": [
    "任务3-16代码"
   ]
  },
  {
   "cell_type": "code",
   "execution_count": 13,
   "metadata": {},
   "outputs": [
    {
     "name": "stdout",
     "output_type": "stream",
     "text": [
      "九九乘法表\n",
      "1*1=1  \n",
      "2*1=2  2*2=4  \n",
      "3*1=3  3*2=6  3*3=9  \n",
      "4*1=4  4*2=8  4*3=12  4*4=16  \n",
      "5*1=5  5*2=10  5*3=15  5*4=20  5*5=25  \n",
      "6*1=6  6*2=12  6*3=18  6*4=24  6*5=30  6*6=36  \n",
      "7*1=7  7*2=14  7*3=21  7*4=28  7*5=35  7*6=42  7*7=49  \n",
      "8*1=8  8*2=16  8*3=24  8*4=32  8*5=40  8*6=48  8*7=56  8*8=64  \n",
      "9*1=9  9*2=18  9*3=27  9*4=36  9*5=45  9*6=54  9*7=63  9*8=72  9*9=81  \n"
     ]
    }
   ],
   "source": [
    "print(\"九九乘法表\")\n",
    "for i in range(1,10):\n",
    "    for j in range(1,i+1):\n",
    "        print(\"{0}*{1}={2}\".format(i,j,i*j),end=\"  \")\n",
    "    print()"
   ]
  },
  {
   "cell_type": "code",
   "execution_count": null,
   "metadata": {},
   "outputs": [],
   "source": []
  }
 ],
 "metadata": {
  "kernelspec": {
   "display_name": "Python 3",
   "language": "python",
   "name": "python3"
  },
  "language_info": {
   "codemirror_mode": {
    "name": "ipython",
    "version": 3
   },
   "file_extension": ".py",
   "mimetype": "text/x-python",
   "name": "python",
   "nbconvert_exporter": "python",
   "pygments_lexer": "ipython3",
   "version": "3.7.0"
  }
 },
 "nbformat": 4,
 "nbformat_minor": 2
}
